{
  "nbformat": 4,
  "nbformat_minor": 0,
  "metadata": {
    "colab": {
      "provenance": [],
      "authorship_tag": "ABX9TyPoskjAtE3KX0BHg+KNqNXV",
      "include_colab_link": true
    },
    "kernelspec": {
      "name": "python3",
      "display_name": "Python 3"
    },
    "language_info": {
      "name": "python"
    }
  },
  "cells": [
    {
      "cell_type": "markdown",
      "metadata": {
        "id": "view-in-github",
        "colab_type": "text"
      },
      "source": [
        "<a href=\"https://colab.research.google.com/github/YuricgSilva/Pre-processamento_Realce_de_brilho_e_contraste/blob/main/Pr%C3%A9_processamento_Realce_de_brilho_e_contraste.ipynb\" target=\"_parent\"><img src=\"https://colab.research.google.com/assets/colab-badge.svg\" alt=\"Open In Colab\"/></a>"
      ]
    },
    {
      "cell_type": "code",
      "execution_count": 48,
      "metadata": {
        "id": "0cZWrLlMx186"
      },
      "outputs": [],
      "source": [
        "#Import`s\n",
        "import cv2\n",
        "import numpy as np\n",
        "import matplotlib.pyplot as plt\n",
        "from PIL import Image\n",
        "import pandas as pd\n",
        "from google.colab.patches import cv2_imshow"
      ]
    },
    {
      "cell_type": "code",
      "source": [
        "img_path = \"/content/images/mona_lisa.pgm\"\n",
        "img = cv2.imread(img_path, cv2.IMREAD_GRAYSCALE)"
      ],
      "metadata": {
        "id": "U2Gvn3OoGyge"
      },
      "execution_count": 114,
      "outputs": []
    },
    {
      "cell_type": "code",
      "source": [
        "fig, axs = plt.subplots(1,1,figsize=(5, 5))\n",
        "axs.imshow(img, cmap='gray')\n",
        "axs.axis('off')\n",
        "plt.show()"
      ],
      "metadata": {
        "id": "kpkw7ZhlHW_U"
      },
      "execution_count": null,
      "outputs": []
    },
    {
      "cell_type": "markdown",
      "source": [
        "REALCE DE BRILHO E CONTRASTE UTILIZANDO A TRANSFORMAÇÃO LINEAR DA RETA."
      ],
      "metadata": {
        "id": "x_5ScKF7NjfL"
      }
    },
    {
      "cell_type": "code",
      "source": [
        "# Função para aplicar transformação linear\n",
        "def linear_transformation(img, a, b):\n",
        "  altura, largura = img.shape\n",
        "  for i in range(altura):\n",
        "      for j in range(largura):\n",
        "          novo_valor = (a*int(img[i, j])+b)\n",
        "          img[i, j] = max(0, min(255, novo_valor))\n",
        "  return img.astype(np.uint8)\n",
        "\n",
        "# Parâmetros (a, b)\n",
        "params = [\n",
        "    (1, 0), (1, 50), (1, 100),\n",
        "    (0.15, 0), (0.15, 50), (0.15, 100),\n",
        "    (2, 0), (2, 50), (2, 100)\n",
        "]\n",
        "\n",
        "# Aplicar transformações e armazenar resultados\n",
        "resultados = []\n",
        "for i, (a, b) in enumerate(params):\n",
        "    original = np.array(img)\n",
        "    img_transf = linear_transformation(original, a, b)\n",
        "    hist, _ = np.histogram(img_transf.flatten(), bins=256, range=[0, 256])\n",
        "    resultados.append((a, b, img_transf, hist))\n",
        "\n",
        "# Plotar imagens e histogramas\n",
        "fig, axes = plt.subplots(len(resultados), 2, figsize=(10, 30))\n",
        "fig.suptitle(\"Transformações Lineares: Imagens e Histogramas\", fontsize=16)\n",
        "\n",
        "for idx, (a, b, img, hist) in enumerate(resultados):\n",
        "    ax_img, ax_hist = axes[idx]\n",
        "    ax_img.imshow(img, cmap='gray')\n",
        "    ax_img.set_title(f\"a = {a}, b = {b}\")\n",
        "    ax_img.axis(\"off\")\n",
        "\n",
        "    ax_hist.plot(hist, color='black')\n",
        "    ax_hist.set_title(f\"Histograma - a = {a}, b = {b}\")\n",
        "    ax_hist.set_xlim([0, 255])\n",
        "\n",
        "plt.tight_layout(rect=[0, 0, 1, 0.97])\n",
        "plt.show()"
      ],
      "metadata": {
        "collapsed": true,
        "id": "W9USfGhyNOvp"
      },
      "execution_count": null,
      "outputs": []
    },
    {
      "cell_type": "markdown",
      "source": [
        "TRANSFORMAÇÃO DE AUTOESCALA"
      ],
      "metadata": {
        "id": "EveXk92XgweI"
      }
    },
    {
      "cell_type": "code",
      "source": [
        "def autoscale_transformation(img):\n",
        "    img_float = img.astype(np.float32) / 255.0\n",
        "    Lmin = np.min(img_float)\n",
        "    Lmax = np.max(img_float)\n",
        "    if Lmax - Lmin == 0:\n",
        "        return np.zeros_like(img, dtype=np.uint8)\n",
        "    img_scaled = (img_float - Lmin) * (255 / (Lmax - Lmin))\n",
        "    return img_scaled.astype(np.uint8)\n",
        "\n",
        "resultados_autoescala = []\n",
        "for a, b, img, hist in resultados:\n",
        "    img_auto = autoscale_transformation(img)\n",
        "    hist_auto, _ = np.histogram(img_auto.flatten(), bins=256, range=[0, 256])\n",
        "    resultados_autoescala.append((a, b, img_auto, hist_auto))\n",
        "\n",
        "fig, axes = plt.subplots(len(resultados_autoescala), 2, figsize=(10, 30))\n",
        "fig.suptitle(\"Transformações Lineares com Autoescala: Imagens e Histogramas\", fontsize=16)\n",
        "\n",
        "for idx, (a, b, img, hist) in enumerate(resultados_autoescala):\n",
        "    ax_img, ax_hist = axes[idx]\n",
        "    ax_img.imshow(img, cmap='gray')\n",
        "    ax_img.set_title(f\"a = {a}, b = {b} (Autoescala)\")\n",
        "    ax_img.axis(\"off\")\n",
        "\n",
        "    ax_hist.plot(hist, color='black')\n",
        "    ax_hist.set_title(f\"Histograma - a = {a}, b = {b} (Autoescala)\")\n",
        "    ax_hist.set_xlim([0, 255])\n",
        "\n",
        "plt.tight_layout(rect=[0, 0, 1, 0.97])\n",
        "plt.show()\n"
      ],
      "metadata": {
        "id": "tQT5MR0aoYOI"
      },
      "execution_count": null,
      "outputs": []
    },
    {
      "cell_type": "markdown",
      "source": [
        "TRANSFORMAÇÃO NEGATIVA"
      ],
      "metadata": {
        "id": "CIm6QdJ5uHgV"
      }
    },
    {
      "cell_type": "code",
      "source": [
        "def negative_transformation(img):\n",
        "    return 255 - img\n",
        "\n",
        "img_negativa = negative_transformation(img)\n",
        "\n",
        "hist_negativa, _ = np.histogram(img_negativa.flatten(), bins=256, range=[0, 256])\n",
        "\n",
        "fig, axes = plt.subplots(1, 2, figsize=(10, 5))\n",
        "\n",
        "axes[0].imshow(img_negativa, cmap='gray')\n",
        "axes[0].set_title(\"Imagem Negativa\")\n",
        "axes[0].axis(\"off\")\n",
        "\n",
        "axes[1].plot(hist_negativa, color='black')\n",
        "axes[1].set_title(\"Histograma da Imagem Negativa\")\n",
        "axes[1].set_xlim([0, 255])\n",
        "\n",
        "plt.tight_layout()\n",
        "plt.show()\n"
      ],
      "metadata": {
        "id": "QXiQyApSvHZN"
      },
      "execution_count": null,
      "outputs": []
    },
    {
      "cell_type": "markdown",
      "source": [
        "TRANSFORMAÇÃO LOGARÍTMICA"
      ],
      "metadata": {
        "id": "Tn6dsb5_zmkG"
      }
    },
    {
      "cell_type": "code",
      "source": [
        "def intensidade_logaritmica(img, constante):\n",
        "    img_float = img.astype(np.float32)\n",
        "    img_log = constante * np.log10(1 + img_float)\n",
        "    img_log = np.clip(img_log, 0, 255)\n",
        "    return img_log.astype(np.uint8)\n",
        "\n",
        "constants = [1, 25, 50, 100]\n",
        "for c in constants:\n",
        "    img_log = intensidade_logaritmica(img, c)\n",
        "    hist_log, _ = np.histogram(img_log.flatten(), bins=256, range=[0, 256])\n",
        "\n",
        "    fig, (ax_img, ax_hist) = plt.subplots(1, 2, figsize=(12, 6)) # Create a subplot with 1 row and 2 columns\n",
        "\n",
        "    ax_img.imshow(img_log, cmap='gray') # Display the image on the left subplot\n",
        "    ax_img.set_title(f\"Imagem com Transformação Logarítmica (c = {c})\")\n",
        "    ax_img.axis(\"off\")\n",
        "\n",
        "    ax_hist.plot(hist_log, color='black') # Display the histogram on the right subplot\n",
        "    ax_hist.set_title(f\"Histograma (c = {c})\")\n",
        "    ax_hist.set_xlabel(\"Níveis de Intensidade\")\n",
        "    ax_hist.set_ylabel(\"Frequência\")\n",
        "    ax_hist.set_xlim([0, 255])\n",
        "\n",
        "    plt.show()"
      ],
      "metadata": {
        "id": "vV_XbjZT0IMy"
      },
      "execution_count": null,
      "outputs": []
    },
    {
      "cell_type": "markdown",
      "source": [
        "TRANSFORMAÇÃO EXPONENCIAL"
      ],
      "metadata": {
        "id": "tp1mx1t54nMb"
      }
    },
    {
      "cell_type": "code",
      "source": [
        "def transformacao_exponencial(img, constante, gama):\n",
        "    img_float = img.astype(np.float32)\n",
        "    img_exp = constante * np.power(img_float, gama)\n",
        "    img_exp = np.clip(img_exp, 0, 255)\n",
        "    return img_exp.astype(np.uint8)\n",
        "\n",
        "parameters = [\n",
        "    (1, 0.15), (1, 1), (1, 2),\n",
        "    (30, 0.15), (30, 1), (30, 2)\n",
        "]\n",
        "\n",
        "for c, gamma in parameters:\n",
        "    img_exp = transformacao_exponencial(img, c, gamma)\n",
        "    hist_exp, _ = np.histogram(img_exp.flatten(), bins=256, range=[0, 256])\n",
        "\n",
        "    fig, (ax_img, ax_hist) = plt.subplots(1, 2, figsize=(12, 6))\n",
        "\n",
        "    ax_img.imshow(img_exp, cmap='gray')\n",
        "    ax_img.set_title(f\"Imagem com Transformação Exponencial (c = {c}, γ = {gamma})\")\n",
        "    ax_img.axis(\"off\")\n",
        "\n",
        "    ax_hist.plot(hist_exp, color='black')\n",
        "    ax_hist.set_title(f\"Histograma (c = {c}, γ = {gamma})\")\n",
        "    ax_hist.set_xlabel(\"Níveis de Intensidade\")\n",
        "    ax_hist.set_ylabel(\"Frequência\")\n",
        "    ax_hist.set_xlim([0, 255])\n",
        "\n",
        "    plt.show()\n"
      ],
      "metadata": {
        "id": "3_4z_HCi5q-Y"
      },
      "execution_count": null,
      "outputs": []
    },
    {
      "cell_type": "markdown",
      "source": [
        "TRANSFORMAÇÃO QUADRADO"
      ],
      "metadata": {
        "id": "dAF3WIG06rYO"
      }
    },
    {
      "cell_type": "code",
      "source": [
        "def transformacao_quadrada(img, constante):\n",
        "    img_float = img.astype(np.float32)\n",
        "    img_quad = constante * np.power(img_float, 2)\n",
        "    img_quad = np.clip(img_quad, 0, 255)\n",
        "    return img_quad.astype(np.uint8)\n",
        "\n",
        "constants = [1, 25, 50, 100]\n",
        "for c in constants:\n",
        "    img_quad = transformacao_quadrada(img, c)\n",
        "    hist_quad, _ = np.histogram(img_quad.flatten(), bins=256, range=[0, 256])\n",
        "\n",
        "    fig, (ax_img, ax_hist) = plt.subplots(1, 2, figsize=(12, 6))\n",
        "\n",
        "    ax_img.imshow(img_quad, cmap='gray')\n",
        "    ax_img.set_title(f\"Imagem com Transformação Quadrada (c = {c})\")\n",
        "    ax_img.axis(\"off\")\n",
        "\n",
        "    ax_hist.plot(hist_quad, color='black')\n",
        "    ax_hist.set_title(f\"Histograma (c = {c})\")\n",
        "    ax_hist.set_xlabel(\"Níveis de Intensidade\")\n",
        "    ax_hist.set_ylabel(\"Frequência\")\n",
        "    ax_hist.set_xlim([0, 255])\n",
        "\n",
        "    plt.show()\n"
      ],
      "metadata": {
        "id": "lUzqsSGw9eWa"
      },
      "execution_count": null,
      "outputs": []
    },
    {
      "cell_type": "markdown",
      "source": [
        "TRANSFORMAÇÃO RAIZ QUADRADA"
      ],
      "metadata": {
        "id": "9aTabIwP-dub"
      }
    },
    {
      "cell_type": "code",
      "source": [
        "def transformacao_raiz_quadrada(img, constante):\n",
        "    img_float = img.astype(np.float32)\n",
        "    img_sqrt = constante * np.sqrt(img_float)\n",
        "    img_sqrt = np.clip(img_sqrt, 0, 255)\n",
        "\n",
        "    return img_sqrt.astype(np.uint8)\n",
        "constants = [1, 25, 50, 100]\n",
        "for c in constants:\n",
        "    img_sqrt = transformacao_raiz_quadrada(img, c)\n",
        "    hist_sqrt, _ = np.histogram(img_sqrt.flatten(), bins=256, range=[0, 256])\n",
        "\n",
        "    fig, (ax_img, ax_hist) = plt.subplots(1, 2, figsize=(12, 6))\n",
        "\n",
        "    ax_img.imshow(img_sqrt, cmap='gray')\n",
        "    ax_img.set_title(f\"Imagem com Transformação Raiz Quadrada (c = {c})\")\n",
        "    ax_img.axis(\"off\")\n",
        "\n",
        "    ax_hist.plot(hist_sqrt, color='black')\n",
        "    ax_hist.set_title(f\"Histograma (c = {c})\")\n",
        "    ax_hist.set_xlabel(\"Níveis de Intensidade\")\n",
        "    ax_hist.set_ylabel(\"Frequência\")\n",
        "    ax_hist.set_xlim([0, 255])\n",
        "\n",
        "    plt.show()"
      ],
      "metadata": {
        "id": "rGDQZj3e-dY7"
      },
      "execution_count": null,
      "outputs": []
    },
    {
      "cell_type": "markdown",
      "source": [
        "EQUALIZAÇÃO DE HISTOGRAMA"
      ],
      "metadata": {
        "id": "b0I0JnHn_mJ6"
      }
    },
    {
      "cell_type": "code",
      "source": [
        "def equalizacao_de_histograma(img):\n",
        "    histograma = np.bincount(img.flatten(), minlength=256).astype(np.float32)\n",
        "    total_pixels = img.size\n",
        "    pdf = histograma / total_pixels\n",
        "    cdf = np.cumsum(pdf)\n",
        "    cdf_normalizada = np.round(cdf * 255).astype(np.uint8)\n",
        "    imagem_equalizada = cdf_normalizada[img]\n",
        "\n",
        "    return imagem_equalizada\n",
        "\n",
        "img_equalizada = equalizacao_de_histograma(img)\n",
        "\n",
        "hist_equalizado, _ = np.histogram(img_equalizada.flatten(), bins=256, range=[0, 256])\n",
        "\n",
        "fig, (ax_img, ax_hist) = plt.subplots(1, 2, figsize=(12, 6))\n",
        "\n",
        "ax_img.imshow(img_equalizada, cmap='gray')\n",
        "ax_img.set_title(f\"Imagem Equalizada\")\n",
        "ax_img.axis(\"off\")\n",
        "\n",
        "ax_hist.plot(hist_equalizado, color='black')\n",
        "ax_hist.set_title(f\"Histograma Equalizado\")\n",
        "ax_hist.set_xlabel(\"Níveis de Intensidade\")\n",
        "ax_hist.set_ylabel(\"Frequência\")\n",
        "ax_hist.set_xlim([0, 255])\n",
        "\n",
        "plt.show()\n"
      ],
      "metadata": {
        "id": "rELutE97AtLB"
      },
      "execution_count": null,
      "outputs": []
    }
  ]
}